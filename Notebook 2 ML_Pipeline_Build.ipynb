{
 "cells": [
  {
   "cell_type": "markdown",
   "id": "9cb5d8c3",
   "metadata": {},
   "source": [
    "#### Importación de librerias "
   ]
  },
  {
   "cell_type": "code",
   "execution_count": 1,
   "id": "7f261b4a-1e80-4c73-b43b-cd0347ed88a6",
   "metadata": {},
   "outputs": [],
   "source": [
    "import pandas as pd\n",
    "import numpy as np\n",
    "\n",
    "from sklearn.svm import SVC\n",
    "from sklearn.metrics import accuracy_score, confusion_matrix, classification_report\n",
    "from sklearn.model_selection import train_test_split\n",
    "from sklearn.pipeline import Pipeline\n",
    "from sklearn.preprocessing import MinMaxScaler, Binarizer\n",
    "\n",
    "###### ======  Librerias para ingenieria de caracteristicas  ====== ######\n",
    "from feature_engine.imputation import AddMissingIndicator, MeanMedianImputer, CategoricalImputer\n",
    "from feature_engine.encoding import RareLabelEncoder, OrdinalEncoder\n",
    "from feature_engine.transformation import LogTransformer\n",
    "from feature_engine.selection import DropFeatures\n",
    "from feature_engine.wrappers import SklearnTransformerWrapper\n",
    "\n",
    "import myPreprocessors as mypp #nuestras librerías de transformaciones.\n",
    "\n",
    "import joblib"
   ]
  },
  {
   "cell_type": "code",
   "execution_count": 2,
   "id": "c228c62f-74f9-4ada-8e30-3877d5f9a7cb",
   "metadata": {},
   "outputs": [
    {
     "data": {
      "text/html": [
       "<div>\n",
       "<style scoped>\n",
       "    .dataframe tbody tr th:only-of-type {\n",
       "        vertical-align: middle;\n",
       "    }\n",
       "\n",
       "    .dataframe tbody tr th {\n",
       "        vertical-align: top;\n",
       "    }\n",
       "\n",
       "    .dataframe thead th {\n",
       "        text-align: right;\n",
       "    }\n",
       "</style>\n",
       "<table border=\"1\" class=\"dataframe\">\n",
       "  <thead>\n",
       "    <tr style=\"text-align: right;\">\n",
       "      <th></th>\n",
       "      <th>PassengerId</th>\n",
       "      <th>Survived</th>\n",
       "      <th>Pclass</th>\n",
       "      <th>Name</th>\n",
       "      <th>Sex</th>\n",
       "      <th>Age</th>\n",
       "      <th>SibSp</th>\n",
       "      <th>Parch</th>\n",
       "      <th>Ticket</th>\n",
       "      <th>Fare</th>\n",
       "      <th>Cabin</th>\n",
       "      <th>Embarked</th>\n",
       "    </tr>\n",
       "  </thead>\n",
       "  <tbody>\n",
       "    <tr>\n",
       "      <th>0</th>\n",
       "      <td>1</td>\n",
       "      <td>0</td>\n",
       "      <td>3</td>\n",
       "      <td>Braund, Mr. Owen Harris</td>\n",
       "      <td>male</td>\n",
       "      <td>22.0</td>\n",
       "      <td>1</td>\n",
       "      <td>0</td>\n",
       "      <td>A/5 21171</td>\n",
       "      <td>7.2500</td>\n",
       "      <td>NaN</td>\n",
       "      <td>S</td>\n",
       "    </tr>\n",
       "    <tr>\n",
       "      <th>1</th>\n",
       "      <td>2</td>\n",
       "      <td>1</td>\n",
       "      <td>1</td>\n",
       "      <td>Cumings, Mrs. John Bradley (Florence Briggs Th...</td>\n",
       "      <td>female</td>\n",
       "      <td>38.0</td>\n",
       "      <td>1</td>\n",
       "      <td>0</td>\n",
       "      <td>PC 17599</td>\n",
       "      <td>71.2833</td>\n",
       "      <td>C85</td>\n",
       "      <td>C</td>\n",
       "    </tr>\n",
       "    <tr>\n",
       "      <th>2</th>\n",
       "      <td>3</td>\n",
       "      <td>1</td>\n",
       "      <td>3</td>\n",
       "      <td>Heikkinen, Miss. Laina</td>\n",
       "      <td>female</td>\n",
       "      <td>26.0</td>\n",
       "      <td>0</td>\n",
       "      <td>0</td>\n",
       "      <td>STON/O2. 3101282</td>\n",
       "      <td>7.9250</td>\n",
       "      <td>NaN</td>\n",
       "      <td>S</td>\n",
       "    </tr>\n",
       "    <tr>\n",
       "      <th>3</th>\n",
       "      <td>4</td>\n",
       "      <td>1</td>\n",
       "      <td>1</td>\n",
       "      <td>Futrelle, Mrs. Jacques Heath (Lily May Peel)</td>\n",
       "      <td>female</td>\n",
       "      <td>35.0</td>\n",
       "      <td>1</td>\n",
       "      <td>0</td>\n",
       "      <td>113803</td>\n",
       "      <td>53.1000</td>\n",
       "      <td>C123</td>\n",
       "      <td>S</td>\n",
       "    </tr>\n",
       "    <tr>\n",
       "      <th>4</th>\n",
       "      <td>5</td>\n",
       "      <td>0</td>\n",
       "      <td>3</td>\n",
       "      <td>Allen, Mr. William Henry</td>\n",
       "      <td>male</td>\n",
       "      <td>35.0</td>\n",
       "      <td>0</td>\n",
       "      <td>0</td>\n",
       "      <td>373450</td>\n",
       "      <td>8.0500</td>\n",
       "      <td>NaN</td>\n",
       "      <td>S</td>\n",
       "    </tr>\n",
       "  </tbody>\n",
       "</table>\n",
       "</div>"
      ],
      "text/plain": [
       "   PassengerId  Survived  Pclass  \\\n",
       "0            1         0       3   \n",
       "1            2         1       1   \n",
       "2            3         1       3   \n",
       "3            4         1       1   \n",
       "4            5         0       3   \n",
       "\n",
       "                                                Name     Sex   Age  SibSp  \\\n",
       "0                            Braund, Mr. Owen Harris    male  22.0      1   \n",
       "1  Cumings, Mrs. John Bradley (Florence Briggs Th...  female  38.0      1   \n",
       "2                             Heikkinen, Miss. Laina  female  26.0      0   \n",
       "3       Futrelle, Mrs. Jacques Heath (Lily May Peel)  female  35.0      1   \n",
       "4                           Allen, Mr. William Henry    male  35.0      0   \n",
       "\n",
       "   Parch            Ticket     Fare Cabin Embarked  \n",
       "0      0         A/5 21171   7.2500   NaN        S  \n",
       "1      0          PC 17599  71.2833   C85        C  \n",
       "2      0  STON/O2. 3101282   7.9250   NaN        S  \n",
       "3      0            113803  53.1000  C123        S  \n",
       "4      0            373450   8.0500   NaN        S  "
      ]
     },
     "execution_count": 2,
     "metadata": {},
     "output_type": "execute_result"
    }
   ],
   "source": [
    "dataTrain = pd.read_csv(\"train.csv\")\n",
    "dataTrain.head()"
   ]
  },
  {
   "cell_type": "code",
   "execution_count": 3,
   "id": "53170100-180b-4d62-9514-2be15bbea71d",
   "metadata": {},
   "outputs": [
    {
     "data": {
      "text/plain": [
       "PassengerId      int64\n",
       "Survived         int64\n",
       "Pclass           int64\n",
       "Name            object\n",
       "Sex             object\n",
       "Age            float64\n",
       "SibSp            int64\n",
       "Parch            int64\n",
       "Ticket          object\n",
       "Fare           float64\n",
       "Cabin           object\n",
       "Embarked        object\n",
       "dtype: object"
      ]
     },
     "execution_count": 3,
     "metadata": {},
     "output_type": "execute_result"
    }
   ],
   "source": [
    "dataTrain.dtypes"
   ]
  },
  {
   "cell_type": "code",
   "execution_count": 4,
   "id": "2d3147c2",
   "metadata": {},
   "outputs": [
    {
     "data": {
      "text/plain": [
       "PassengerId    0.000000\n",
       "Survived       0.000000\n",
       "Pclass         0.000000\n",
       "Name           0.000000\n",
       "Sex            0.000000\n",
       "Age            0.198653\n",
       "SibSp          0.000000\n",
       "Parch          0.000000\n",
       "Ticket         0.000000\n",
       "Fare           0.000000\n",
       "Cabin          0.771044\n",
       "Embarked       0.002245\n",
       "dtype: float64"
      ]
     },
     "execution_count": 4,
     "metadata": {},
     "output_type": "execute_result"
    }
   ],
   "source": [
    "dataTrain.isnull().mean()"
   ]
  },
  {
   "cell_type": "markdown",
   "id": "a460950b-75f7-4c60-9415-2e183cee5f7d",
   "metadata": {},
   "source": [
    "#### 2. Train Test Split para Entrenamiento y Prueba"
   ]
  },
  {
   "cell_type": "code",
   "execution_count": 5,
   "id": "e29738ce-1ae7-4d7b-a5de-3703ded7ccf9",
   "metadata": {},
   "outputs": [],
   "source": [
    "X_train, X_test, y_train, y_test = train_test_split(\n",
    "    dataTrain.drop(['PassengerId', 'Survived'], axis=1),\n",
    "    dataTrain['Survived'],\n",
    "    test_size=0.3,\n",
    "    random_state=2022)"
   ]
  },
  {
   "cell_type": "markdown",
   "id": "8c7e7779-87a6-41f1-8d3f-f069bd4aabf2",
   "metadata": {},
   "source": [
    "#### 3. Configuración del Pipeline (Proceso de ingenieria de caracteristicas)"
   ]
  },
  {
   "cell_type": "code",
   "execution_count": 6,
   "id": "9611114b-690a-43b4-a523-360aadb9a89b",
   "metadata": {},
   "outputs": [],
   "source": [
    "#imputación de variables categóricas\n",
    "CATEGORICAL_VARS_WITH_NA_FREQUENT = ['Embarked']\n",
    "\n",
    "#Imputación de variables numéricas\n",
    "NUMERICAL_VARS_WITH_NA = ['Age']\n",
    "\n",
    "#Variables que eliminaremos\n",
    "DROP_FEATURES = ['Name', 'Ticket', 'Cabin']\n",
    "\n",
    "#Variables para transfomación logarítmica\n",
    "NUMERICAL_LOG_VARS = [\"Age\"]\n",
    "\n",
    "#Variables para codificación ordinal. (se vuelve a numero en base a orden que aparece)\n",
    "QUAL_VARS = ['Sex']\n",
    "\n",
    "EXPOSURE_VARS = ['Embarked']\n",
    "\n",
    "\n",
    "#Mapeo para varibels categótricas para calidad.\n",
    "QUAL_MAPPINGS = {'male': 0, 'female': 1}\n",
    "\n",
    "EXPOSURE_MAPPINGS = {'S': 1, 'C': 2, 'Q': 3}\n",
    "\n",
    "#Variables a utilzar en el entrenamiento\n",
    "FEATURES = ['Pclass',\t'Sex',\t'Age',\t'SibSp',\t'Parch',\t'Fare',\t'Embarked', 'Name', 'Ticket', 'Cabin']\n",
    "\n"
   ]
  },
  {
   "cell_type": "code",
   "execution_count": 7,
   "id": "e0f1af0a-7c9f-4835-846e-d5b25f6a095e",
   "metadata": {},
   "outputs": [],
   "source": [
    "X_train = X_train[FEATURES]"
   ]
  },
  {
   "cell_type": "markdown",
   "id": "9d25fe80-43f8-4bb3-9b99-d13c4bc4954a",
   "metadata": {},
   "source": [
    "#### 4. Construcción del Pipeline"
   ]
  },
  {
   "cell_type": "code",
   "execution_count": 8,
   "id": "303f4186-6d5d-491b-ba7c-ca0141d30300",
   "metadata": {},
   "outputs": [],
   "source": [
    "##### ====== Se usa la libreria Feature Engine y nuestras librerías de transformaciones. ====== ##### \n",
    "\n",
    "housePrice_pipeline_v112022 = Pipeline([\n",
    "    \n",
    "    #=========== IMPUTACIONES ===============\n",
    "    \n",
    "    #2. Imputación de variables categóricas basada en frecuencia\n",
    "    ('frequent_imputation',\n",
    "        CategoricalImputer(imputation_method='frequent', variables=CATEGORICAL_VARS_WITH_NA_FREQUENT)\n",
    "    ),\n",
    "    \n",
    "    #3. Indicador faltane en variables numericas para imputación\n",
    "    ('missing_indicator_numeric',\n",
    "        AddMissingIndicator(variables=NUMERICAL_VARS_WITH_NA)\n",
    "    ),\n",
    "    \n",
    "    #4. Imputación de variables numéricas\n",
    "    ('mean_imputation',\n",
    "        MeanMedianImputer(imputation_method='mean', variables=NUMERICAL_VARS_WITH_NA)\n",
    "    ),\n",
    "    \n",
    "    #========== VARIABLES TEMPORALES ================\n",
    "      \n",
    "    #6. Drop de variables.\n",
    "    ('drop_time_features',\n",
    "        DropFeatures(features_to_drop=DROP_FEATURES)\n",
    "    ),\n",
    "    \n",
    "    #============= CODIFICACIÓN DE VARIABLES CATEGORICAS ORINALES ==================\n",
    "    ('quality_mapper',\n",
    "        mypp.Mapper(variables=QUAL_VARS, mappings=QUAL_MAPPINGS)\n",
    "    ),\n",
    "    \n",
    "    ('exposure_mapper',\n",
    "       mypp.Mapper(variables=EXPOSURE_VARS, mappings=EXPOSURE_MAPPINGS)\n",
    "    ),\n",
    "\n",
    "    #=============== TRANSFORMACIÓN DE VARIABLES CONTINUAS ============\n",
    "    ('log_transformer',\n",
    "        LogTransformer(variables=NUMERICAL_LOG_VARS)\n",
    "    ),\n",
    "    \n",
    "   \n",
    "     #=============== SCALER ============\n",
    "    ('scaler',\n",
    "        MinMaxScaler()\n",
    "    ),\n",
    "    \n",
    "    ('modelo_SVC', \n",
    "         SVC(kernel='linear', C=1)\n",
    "    )\n",
    "])"
   ]
  },
  {
   "cell_type": "code",
   "execution_count": 9,
   "id": "69c3632b-d1bc-48ca-b7cf-d9aa4776875a",
   "metadata": {},
   "outputs": [
    {
     "data": {
      "text/plain": [
       "Pipeline(steps=[('frequent_imputation',\n",
       "                 CategoricalImputer(imputation_method='frequent',\n",
       "                                    variables=['Embarked'])),\n",
       "                ('missing_indicator_numeric',\n",
       "                 AddMissingIndicator(variables=['Age'])),\n",
       "                ('mean_imputation',\n",
       "                 MeanMedianImputer(imputation_method='mean',\n",
       "                                   variables=['Age'])),\n",
       "                ('drop_time_features',\n",
       "                 DropFeatures(features_to_drop=['Name', 'Ticket', 'Cabin'])),\n",
       "                ('quality_mapper',\n",
       "                 Mapper(mappings={'female': 1, 'male': 0}, variables=['Sex'])),\n",
       "                ('exposure_mapper',\n",
       "                 Mapper(mappings={'C': 2, 'Q': 3, 'S': 1},\n",
       "                        variables=['Embarked'])),\n",
       "                ('log_transformer', LogTransformer(variables=['Age'])),\n",
       "                ('scaler', MinMaxScaler()),\n",
       "                ('modelo_lasso', SVC(C=1, kernel='linear'))])"
      ]
     },
     "execution_count": 9,
     "metadata": {},
     "output_type": "execute_result"
    }
   ],
   "source": [
    "##### ====== Aplicación de los cambios de ingenieria de caracteristicas ====== ##### \n",
    "housePrice_pipeline_v112022.fit(X_train, y_train)"
   ]
  },
  {
   "cell_type": "code",
   "execution_count": 10,
   "id": "32a8caa4-285e-49b6-b784-7b87daa7c559",
   "metadata": {},
   "outputs": [],
   "source": [
    "X_test = X_test[FEATURES]"
   ]
  },
  {
   "cell_type": "markdown",
   "id": "ab5c5ef8",
   "metadata": {},
   "source": [
    "#### <b> Predicciones </b>"
   ]
  },
  {
   "cell_type": "code",
   "execution_count": 11,
   "id": "84f6a05e-51df-4e10-a6ab-33a8e81887fb",
   "metadata": {},
   "outputs": [],
   "source": [
    "preds = housePrice_pipeline_v112022.predict(X_test)"
   ]
  },
  {
   "cell_type": "code",
   "execution_count": 12,
   "id": "829502eb-af55-4368-ab00-716320c6d5e0",
   "metadata": {},
   "outputs": [
    {
     "name": "stdout",
     "output_type": "stream",
     "text": [
      "Accuracy:  0.7985074626865671\n"
     ]
    }
   ],
   "source": [
    "print('Accuracy: ', accuracy_score(y_test, preds))"
   ]
  },
  {
   "cell_type": "code",
   "execution_count": 13,
   "id": "7a747df5-2fae-4492-b039-71e09a6df80d",
   "metadata": {},
   "outputs": [
    {
     "data": {
      "text/plain": [
       "['housePrice_pipeline_v12022.pkl']"
      ]
     },
     "execution_count": 13,
     "metadata": {},
     "output_type": "execute_result"
    }
   ],
   "source": [
    "#guardamos pipeline para uso en producción.\n",
    "joblib.dump(housePrice_pipeline_v112022, 'housePrice_pipeline_v12022.pkl')"
   ]
  },
  {
   "cell_type": "code",
   "execution_count": 14,
   "id": "66327b93-c246-4689-8f6d-005d5d872b22",
   "metadata": {},
   "outputs": [
    {
     "data": {
      "text/plain": [
       "['FEATURES.pkl']"
      ]
     },
     "execution_count": 14,
     "metadata": {},
     "output_type": "execute_result"
    }
   ],
   "source": [
    "joblib.dump(FEATURES, 'FEATURES.pkl')"
   ]
  },
  {
   "cell_type": "markdown",
   "id": "513b09bc",
   "metadata": {},
   "source": [
    "## <b> Video </b>"
   ]
  },
  {
   "cell_type": "markdown",
   "id": "a9c00188",
   "metadata": {},
   "source": [
    "https://youtu.be/aAm1jWsG_gI"
   ]
  }
 ],
 "metadata": {
  "kernelspec": {
   "display_name": "Python 3.9.12 ('base')",
   "language": "python",
   "name": "python3"
  },
  "language_info": {
   "codemirror_mode": {
    "name": "ipython",
    "version": 3
   },
   "file_extension": ".py",
   "mimetype": "text/x-python",
   "name": "python",
   "nbconvert_exporter": "python",
   "pygments_lexer": "ipython3",
   "version": "3.9.12"
  },
  "vscode": {
   "interpreter": {
    "hash": "721d5cc2a3432890c60d3b67ec7a8154d2297581962472e833721a025cc9dd92"
   }
  }
 },
 "nbformat": 4,
 "nbformat_minor": 5
}
